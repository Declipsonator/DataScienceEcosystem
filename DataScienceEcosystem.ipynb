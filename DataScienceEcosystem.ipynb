{
 "cells": [
  {
   "cell_type": "markdown",
   "id": "589d0527-7f0f-453b-b74e-dc03d7f53bbc",
   "metadata": {},
   "source": [
    "# DataScienceEcosystem"
   ]
  },
  {
   "cell_type": "markdown",
   "id": "88a828ed-b2c2-49a4-bd81-796194de8f8c",
   "metadata": {},
   "source": [
    "### In this notebook, the languages, libraries, and tools that data scientists use on a day-to-day basis are summarized."
   ]
  },
  {
   "cell_type": "markdown",
   "id": "e0b1cf5c-6b40-433e-abe0-091e1a74f0a8",
   "metadata": {},
   "source": [
    "**Objectives:**\n",
    "- List common languages among data scientists\n",
    "- List common libraries among data scientists\n",
    "- Describe some data science tools often used\n",
    "- Do some simple arithmetic"
   ]
  },
  {
   "cell_type": "markdown",
   "id": "b07a12fc-4d23-4e04-a4d5-749f07cee95e",
   "metadata": {},
   "source": [
    "**Some common languages among data scientists are:**\n",
    "1. R\n",
    "2. Python\n",
    "3. Julia"
   ]
  },
  {
   "cell_type": "markdown",
   "id": "5d7385ee-f74f-4b70-a03d-288caf29b4a8",
   "metadata": {},
   "source": [
    "**Some common libraries among data scientists are:** \n",
    "1. Matplotlib\n",
    "2. Numpy\n",
    "3. Pandas\n",
    "4. Tensorflow\n",
    "5. Scikit-learn\n",
    "6. GGally\n",
    "7. ggplot"
   ]
  },
  {
   "cell_type": "markdown",
   "id": "6860930e-374a-4552-b715-3dd853f0126d",
   "metadata": {},
   "source": [
    "| Data Science Tools |\n",
    "|--------------------|\n",
    "| R Studio |\n",
    "| Jupyter Notebook |\n",
    "| Apache Spark |\n",
    "| Pycharm |\n",
    "| IBM Watson |\n",
    "| Hadoop |\n",
    "| Google Colab |"
   ]
  },
  {
   "cell_type": "markdown",
   "id": "db2231ec-f31c-4f19-b428-5accf783e10c",
   "metadata": {},
   "source": [
    "### The following few cells are examples of evaluating arithmetic expressions in Python."
   ]
  },
  {
   "cell_type": "code",
   "execution_count": 2,
   "id": "f230092d-d6c2-436e-a31d-3075a33b9978",
   "metadata": {},
   "outputs": [
    {
     "data": {
      "text/plain": [
       "17"
      ]
     },
     "execution_count": 2,
     "metadata": {},
     "output_type": "execute_result"
    }
   ],
   "source": [
    "# This a simple arithmetic expression where integers are multiplied and then added\n",
    "\n",
    "(3*4)+5"
   ]
  },
  {
   "cell_type": "code",
   "execution_count": 1,
   "id": "c619150f-fd39-4e90-ae4b-1b3b82e96608",
   "metadata": {},
   "outputs": [
    {
     "name": "stdout",
     "output_type": "stream",
     "text": [
      "Hours:\n",
      "3.3333333333333335\n"
     ]
    }
   ],
   "source": [
    "# This cell converts 200 minutes into hours by dividing by 60\n",
    "\n",
    "print(\"Hours:\")\n",
    "print(200/60)"
   ]
  },
  {
   "cell_type": "markdown",
   "id": "c118e7c1-d51f-43c8-91c8-8999122c752e",
   "metadata": {},
   "source": [
    "## Author\n",
    "Jackson Hickey"
   ]
  }
 ],
 "metadata": {
  "kernelspec": {
   "display_name": "Python 3 (ipykernel)",
   "language": "python",
   "name": "python3"
  },
  "language_info": {
   "codemirror_mode": {
    "name": "ipython",
    "version": 3
   },
   "file_extension": ".py",
   "mimetype": "text/x-python",
   "name": "python",
   "nbconvert_exporter": "python",
   "pygments_lexer": "ipython3",
   "version": "3.11.9"
  }
 },
 "nbformat": 4,
 "nbformat_minor": 5
}
